{
 "cells": [
  {
   "cell_type": "code",
   "execution_count": 26,
   "metadata": {},
   "outputs": [],
   "source": [
    "import sqlite3\n",
    "import numpy as np\n",
    "import pandas as pd"
   ]
  },
  {
   "cell_type": "code",
   "execution_count": 27,
   "metadata": {},
   "outputs": [],
   "source": [
    "id = np.arange(1, 11)\n",
    "names = np.array(['Ivan', 'Olesya', 'Alexander', 'Anastasiya', 'Oleg', 'Evgeniy', 'Anna', 'Diana', 'Dmiriy', 'Venera'])\n",
    "friends = np.random.choice(id, size=10, replace=False)\n",
    "salary = np.random.randint(100000, high=150000, size=10)"
   ]
  },
  {
   "cell_type": "code",
   "execution_count": 28,
   "metadata": {},
   "outputs": [],
   "source": [
    "Students = pd.DataFrame(columns=['ID', 'Name'])\n",
    "Friends = pd.DataFrame(columns=['ID', 'Friend_ID'])\n",
    "Packages = pd.DataFrame(columns=['ID', 'Salary'])\n",
    "\n",
    "Students['ID'] = id\n",
    "Students['Name'] = names\n",
    "Friends['ID'] = id\n",
    "Friends['Friend_ID'] = friends\n",
    "Packages['ID'] = id\n",
    "Packages['Salary'] = salary"
   ]
  },
  {
   "cell_type": "code",
   "execution_count": 29,
   "metadata": {},
   "outputs": [
    {
     "data": {
      "text/plain": [
       "[(1, 'Ivan'),\n",
       " (2, 'Olesya'),\n",
       " (3, 'Alexander'),\n",
       " (4, 'Anastasiya'),\n",
       " (5, 'Oleg'),\n",
       " (6, 'Evgeniy'),\n",
       " (7, 'Anna'),\n",
       " (8, 'Diana'),\n",
       " (9, 'Dmiriy'),\n",
       " (10, 'Venera')]"
      ]
     },
     "execution_count": 29,
     "metadata": {},
     "output_type": "execute_result"
    }
   ],
   "source": [
    "con = sqlite3.connect('C:/Users/79504/Desktop/Projects/Test/db', timeout=10) \n",
    "cur = con.cursor()\n",
    "Students.to_sql(con=con, name='Students', index=False, if_exists = 'replace')\n",
    "Friends.to_sql(con=con, name='Friends', index=False, if_exists = 'replace')\n",
    "Packages.to_sql(con=con, name='Packages', index=False, if_exists = 'replace')\n",
    "data_test = cur.execute('select * from Students')\n",
    "con.commit() \n",
    "cur.fetchall()  \n"
   ]
  }
 ],
 "metadata": {
  "kernelspec": {
   "display_name": "Python 3",
   "language": "python",
   "name": "python3"
  },
  "language_info": {
   "codemirror_mode": {
    "name": "ipython",
    "version": 3
   },
   "file_extension": ".py",
   "mimetype": "text/x-python",
   "name": "python",
   "nbconvert_exporter": "python",
   "pygments_lexer": "ipython3",
   "version": "3.12.1"
  }
 },
 "nbformat": 4,
 "nbformat_minor": 2
}
