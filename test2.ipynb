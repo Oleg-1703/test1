{
 "cells": [
  {
   "cell_type": "code",
   "execution_count": 30,
   "metadata": {},
   "outputs": [],
   "source": [
    "import datetime\n",
    "import random\n",
    "import sqlite3\n",
    "import numpy as np\n",
    "import pandas as pd"
   ]
  },
  {
   "cell_type": "code",
   "execution_count": 31,
   "metadata": {},
   "outputs": [],
   "source": [
    "task_id = np.arange(1, 11)\n",
    "start_date = []\n",
    "end_date = []\n",
    "initital_date = datetime.date(2024, 9, 2)"
   ]
  },
  {
   "cell_type": "code",
   "execution_count": 32,
   "metadata": {},
   "outputs": [],
   "source": [
    "current_start_date = initital_date\n",
    "for i in range(10):\n",
    "    start_date.append(current_start_date)\n",
    "    current_end_date = current_start_date + datetime.timedelta(days=1)\n",
    "    end_date.append(current_end_date)\n",
    " \n",
    "    gap = random.choice([1, random.randint(2, 5)]) #Разрыв между задачи 1 день или случайно от 2 до 5\n",
    "\n",
    "    current_start_date = current_end_date + datetime.timedelta(days=gap)"
   ]
  },
  {
   "cell_type": "code",
   "execution_count": 33,
   "metadata": {},
   "outputs": [],
   "source": [
    "Tasks = pd.DataFrame(columns=['Task_ID', 'Start_Date', 'End_Date'])\n",
    "Tasks['Task_ID'] = task_id\n",
    "Tasks['Start_Date'] = start_date\n",
    "Tasks['End_Date'] = end_date"
   ]
  },
  {
   "cell_type": "code",
   "execution_count": 34,
   "metadata": {},
   "outputs": [],
   "source": [
    "Tasks['Start_Date'] = pd.to_datetime(Tasks['Start_Date'], format='%Y-%m-%d')\n",
    "Tasks['End_Date'] = pd.to_datetime(Tasks['End_Date'], format='%Y-%m-%d')\n",
    "Tasks['Start_Date'] = Tasks['Start_Date'].dt.strftime('%Y-%m-%d')\n",
    "Tasks['End_Date'] = Tasks['End_Date'].dt.strftime('%Y-%m-%d')\n"
   ]
  },
  {
   "cell_type": "code",
   "execution_count": 36,
   "metadata": {},
   "outputs": [
    {
     "data": {
      "text/plain": [
       "[(1, '2024-09-02', '2024-09-03'),\n",
       " (2, '2024-09-07', '2024-09-08'),\n",
       " (3, '2024-09-09', '2024-09-10'),\n",
       " (4, '2024-09-13', '2024-09-14'),\n",
       " (5, '2024-09-15', '2024-09-16'),\n",
       " (6, '2024-09-17', '2024-09-18'),\n",
       " (7, '2024-09-23', '2024-09-24'),\n",
       " (8, '2024-09-26', '2024-09-27'),\n",
       " (9, '2024-09-28', '2024-09-29'),\n",
       " (10, '2024-09-30', '2024-10-01')]"
      ]
     },
     "execution_count": 36,
     "metadata": {},
     "output_type": "execute_result"
    }
   ],
   "source": [
    "con = sqlite3.connect('C:/Users/79504/Desktop/Projects/Test2/db', timeout=10) \n",
    "cur = con.cursor()\n",
    "Tasks.to_sql(con=con, name='Tasks', index=False, if_exists = 'replace')\n",
    "data_test = cur.execute('select * from Tasks') #тестовый запрос\n",
    "con.commit() \n",
    "cur.fetchall()  \n"
   ]
  }
 ],
 "metadata": {
  "kernelspec": {
   "display_name": "Python 3",
   "language": "python",
   "name": "python3"
  },
  "language_info": {
   "codemirror_mode": {
    "name": "ipython",
    "version": 3
   },
   "file_extension": ".py",
   "mimetype": "text/x-python",
   "name": "python",
   "nbconvert_exporter": "python",
   "pygments_lexer": "ipython3",
   "version": "3.12.1"
  }
 },
 "nbformat": 4,
 "nbformat_minor": 2
}
